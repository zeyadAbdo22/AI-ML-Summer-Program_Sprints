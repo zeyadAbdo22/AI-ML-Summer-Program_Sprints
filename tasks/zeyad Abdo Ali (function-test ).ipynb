{
 "cells": [
  {
   "cell_type": "markdown",
   "metadata": {},
   "source": [
    "### Write a function to count the number 4 in a given list."
   ]
  },
  {
   "cell_type": "code",
   "execution_count": 1,
   "metadata": {},
   "outputs": [],
   "source": [
    "#create function to count how many number 4\n",
    "def clac (x) : \n",
    "    count = 0 # create variable count = 0\n",
    "    # create for loop to count list x by index i\n",
    "    for i in x : \n",
    "        if i == 4 : \n",
    "            count +=1\n",
    "    return count # print number of count for number 4\n",
    "    "
   ]
  },
  {
   "cell_type": "code",
   "execution_count": 2,
   "metadata": {},
   "outputs": [
    {
     "data": {
      "text/plain": [
       "3"
      ]
     },
     "execution_count": 2,
     "metadata": {},
     "output_type": "execute_result"
    }
   ],
   "source": [
    "# return function by ex. list\n",
    "clac([1,2,3,4,4,5,4]) "
   ]
  },
  {
   "cell_type": "markdown",
   "metadata": {},
   "source": [
    "### write a  function to check whether a number is divisible by another number."
   ]
  },
  {
   "cell_type": "code",
   "execution_count": 3,
   "metadata": {},
   "outputs": [],
   "source": [
    "#create function check number is divisible by another number by 2 parameter x,y\n",
    "def check (x,y) :\n",
    "   # create if statment to know by %\n",
    "    if x % y == 0 : \n",
    "        print(\" number is not divisible by another number.\")\n",
    "        \n",
    "        # if not then number is not divisible by another number\n",
    "    else : \n",
    "        print(\"number is divisible by another number.\")"
   ]
  },
  {
   "cell_type": "code",
   "execution_count": 4,
   "metadata": {},
   "outputs": [
    {
     "name": "stdout",
     "output_type": "stream",
     "text": [
      "number is divisible by another number.\n"
     ]
    }
   ],
   "source": [
    "# return function by ex. 2 number\n",
    "check(2,4) "
   ]
  },
  {
   "cell_type": "code",
   "execution_count": 5,
   "metadata": {},
   "outputs": [
    {
     "name": "stdout",
     "output_type": "stream",
     "text": [
      " number is not divisible by another number.\n"
     ]
    }
   ],
   "source": [
    "# return function by ex. 2 number\n",
    "check(10,5) "
   ]
  },
  {
   "cell_type": "markdown",
   "metadata": {},
   "source": [
    "### write a function to find the maximum and minimum numbers from a sequence of numbers."
   ]
  },
  {
   "cell_type": "code",
   "execution_count": 6,
   "metadata": {},
   "outputs": [],
   "source": [
    "# function to find the maximum and minimum numbers from a sequence of numbers.\n",
    "def min_max (x) :\n",
    "    # use for loop to show all index in sequence of numbers.\n",
    "    for i in x :\n",
    "        print(f\"maxmum number :\" , max(i)) #use bulidin function to kwon max.\n",
    "        print(\"minmum number :\", min(i)) #use bulidin function to kwon min."
   ]
  },
  {
   "cell_type": "code",
   "execution_count": 7,
   "metadata": {},
   "outputs": [
    {
     "name": "stdout",
     "output_type": "stream",
     "text": [
      "maxmum number : 10\n",
      "minmum number : 0\n"
     ]
    }
   ],
   "source": [
    "#use range to create sequence of numbers.\n",
    "min_max( [range(11)] ) "
   ]
  },
  {
   "cell_type": "markdown",
   "metadata": {},
   "source": [
    "### Write a Python function that takes two lists and returns True if they have at least one common member."
   ]
  },
  {
   "cell_type": "code",
   "execution_count": 4,
   "metadata": {},
   "outputs": [],
   "source": [
    "#function that takes two lists and returns True if they have at least one common member.\n",
    "def check_list(list1, list2):\n",
    "    #create for loop to show all index in list \n",
    "    for i in list1:\n",
    "        #create if to show if index form list1 = index form list2. if yes print true\n",
    "        if i in list2:\n",
    "            return True\n",
    "    return False"
   ]
  },
  {
   "cell_type": "code",
   "execution_count": 5,
   "metadata": {},
   "outputs": [
    {
     "data": {
      "text/plain": [
       "True"
      ]
     },
     "execution_count": 5,
     "metadata": {},
     "output_type": "execute_result"
    }
   ],
   "source": [
    "# write ex : 2 list to check about function\n",
    "list1 = [3, 5, 6, 7]\n",
    "list2 = [5, 6, 7]\n",
    "check_list(list1, list2)"
   ]
  },
  {
   "cell_type": "code",
   "execution_count": 6,
   "metadata": {},
   "outputs": [
    {
     "data": {
      "text/plain": [
       "False"
      ]
     },
     "execution_count": 6,
     "metadata": {},
     "output_type": "execute_result"
    }
   ],
   "source": [
    "# write ex : 2 list to check about function\n",
    "list1 = [1, 2, 3, 4]\n",
    "list2 = [5, 6, 7]\n",
    "check_list(list1, list2)"
   ]
  },
  {
   "cell_type": "markdown",
   "metadata": {},
   "source": [
    "### Write a Python function to calculate the factorial of a number (a non-negative integer). The function accepts the number from the user"
   ]
  },
  {
   "cell_type": "code",
   "execution_count": 36,
   "metadata": {},
   "outputs": [],
   "source": [
    "# write function to create factorial\n",
    "def factorial():\n",
    "    # create inpute to get no. from user\n",
    "    x = int(input(\"Enter a non-negative integer: \"))\n",
    "    # create if statment (if number les than 0 then not contain factorial)\n",
    "    if x < 0:\n",
    "        print(\"Factorial is not defined for negative numbers.\")\n",
    "    # if any number : apply factorial\n",
    "    else :    \n",
    "        result = 1\n",
    "        for i in range(1, x+1 ):\n",
    "            result *= i\n",
    "        return result "
   ]
  },
  {
   "cell_type": "code",
   "execution_count": 37,
   "metadata": {},
   "outputs": [
    {
     "name": "stdout",
     "output_type": "stream",
     "text": [
      "Enter a non-negative integer: 6\n"
     ]
    },
    {
     "data": {
      "text/plain": [
       "720"
      ]
     },
     "execution_count": 37,
     "metadata": {},
     "output_type": "execute_result"
    }
   ],
   "source": [
    "# to retun any number to apply previous function\n",
    "factorial()"
   ]
  },
  {
   "cell_type": "markdown",
   "metadata": {},
   "source": [
    "### Write a Python function to check whether a number is in a given range.\n",
    "\n",
    "### The range is from 3 to 11\n"
   ]
  },
  {
   "cell_type": "code",
   "execution_count": 26,
   "metadata": {},
   "outputs": [],
   "source": [
    "#function to show if number given in range  \n",
    "def check_range (x):\n",
    "    #create if statment to selecte range from 3 to 11 then return true\n",
    "        if x >= 3 and x <= 11 :\n",
    "            return True\n",
    "        else: # if not return false\n",
    "             return False"
   ]
  },
  {
   "cell_type": "code",
   "execution_count": 12,
   "metadata": {},
   "outputs": [
    {
     "data": {
      "text/plain": [
       "True"
      ]
     },
     "execution_count": 12,
     "metadata": {},
     "output_type": "execute_result"
    }
   ],
   "source": [
    "#ex:\n",
    "check_range (9)"
   ]
  },
  {
   "cell_type": "code",
   "execution_count": 27,
   "metadata": {},
   "outputs": [
    {
     "data": {
      "text/plain": [
       "False"
      ]
     },
     "execution_count": 27,
     "metadata": {},
     "output_type": "execute_result"
    }
   ],
   "source": [
    "#ex:\n",
    "check_range (2)"
   ]
  },
  {
   "cell_type": "markdown",
   "metadata": {},
   "source": [
    "### Write a  program to create the multiplication table (from 1 to 10) of a number."
   ]
  },
  {
   "cell_type": "code",
   "execution_count": 23,
   "metadata": {},
   "outputs": [],
   "source": [
    "#create function to create multiplication for number\n",
    "def multiplication (x) :\n",
    "    #select for loop to create range 1 to 10\n",
    "    for i in range(1,11) :\n",
    "        multiplication_n = x *i # varible multiplication_n is equation = each index of range (i) * (x) given number\n",
    "        print(multiplication_n)"
   ]
  },
  {
   "cell_type": "code",
   "execution_count": 24,
   "metadata": {},
   "outputs": [
    {
     "name": "stdout",
     "output_type": "stream",
     "text": [
      "5\n",
      "10\n",
      "15\n",
      "20\n",
      "25\n",
      "30\n",
      "35\n",
      "40\n",
      "45\n",
      "50\n"
     ]
    }
   ],
   "source": [
    "#for ex : selest 5\n",
    "multiplication (5)"
   ]
  },
  {
   "cell_type": "markdown",
   "metadata": {},
   "source": [
    "### Good Job!"
   ]
  }
 ],
 "metadata": {
  "kernelspec": {
   "display_name": "Python 3 (ipykernel)",
   "language": "python",
   "name": "python3"
  },
  "language_info": {
   "codemirror_mode": {
    "name": "ipython",
    "version": 3
   },
   "file_extension": ".py",
   "mimetype": "text/x-python",
   "name": "python",
   "nbconvert_exporter": "python",
   "pygments_lexer": "ipython3",
   "version": "3.10.9"
  }
 },
 "nbformat": 4,
 "nbformat_minor": 2
}
